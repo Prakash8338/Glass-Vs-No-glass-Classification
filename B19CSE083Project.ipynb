{
 "cells": [
  {
   "cell_type": "markdown",
   "metadata": {},
   "source": [
    "# Import libraries"
   ]
  },
  {
   "cell_type": "code",
   "execution_count": 1,
   "metadata": {},
   "outputs": [],
   "source": [
    "import pandas as pd\n",
    "from sklearn.metrics import roc_curve, auc\n",
    "from sklearn.metrics import roc_auc_score\n",
    "import matplotlib.pyplot as plt\n",
    "from sklearn.model_selection import cross_val_score\n",
    "from sklearn.metrics import confusion_matrix\n",
    "from sklearn.model_selection import train_test_split\n",
    "import warnings; warnings.simplefilter('ignore')"
   ]
  },
  {
   "cell_type": "markdown",
   "metadata": {},
   "source": [
    "# Import Training Data"
   ]
  },
  {
   "cell_type": "code",
   "execution_count": 2,
   "metadata": {},
   "outputs": [],
   "source": [
    "# Import training data \n",
    "train = pd.read_csv('train.csv')"
   ]
  },
  {
   "cell_type": "code",
   "execution_count": 3,
   "metadata": {},
   "outputs": [
    {
     "data": {
      "text/html": [
       "<div>\n",
       "<style scoped>\n",
       "    .dataframe tbody tr th:only-of-type {\n",
       "        vertical-align: middle;\n",
       "    }\n",
       "\n",
       "    .dataframe tbody tr th {\n",
       "        vertical-align: top;\n",
       "    }\n",
       "\n",
       "    .dataframe thead th {\n",
       "        text-align: right;\n",
       "    }\n",
       "</style>\n",
       "<table border=\"1\" class=\"dataframe\">\n",
       "  <thead>\n",
       "    <tr style=\"text-align: right;\">\n",
       "      <th></th>\n",
       "      <th>id</th>\n",
       "      <th>v1</th>\n",
       "      <th>v2</th>\n",
       "      <th>v3</th>\n",
       "      <th>v4</th>\n",
       "      <th>v5</th>\n",
       "      <th>v6</th>\n",
       "      <th>v7</th>\n",
       "      <th>v8</th>\n",
       "      <th>v9</th>\n",
       "      <th>...</th>\n",
       "      <th>v504</th>\n",
       "      <th>v505</th>\n",
       "      <th>v506</th>\n",
       "      <th>v507</th>\n",
       "      <th>v508</th>\n",
       "      <th>v509</th>\n",
       "      <th>v510</th>\n",
       "      <th>v511</th>\n",
       "      <th>v512</th>\n",
       "      <th>glasses</th>\n",
       "    </tr>\n",
       "  </thead>\n",
       "  <tbody>\n",
       "    <tr>\n",
       "      <td>0</td>\n",
       "      <td>1</td>\n",
       "      <td>0.37797</td>\n",
       "      <td>-0.94808</td>\n",
       "      <td>0.01346</td>\n",
       "      <td>0.17893</td>\n",
       "      <td>0.37795</td>\n",
       "      <td>0.63571</td>\n",
       "      <td>0.13943</td>\n",
       "      <td>-0.25607</td>\n",
       "      <td>-0.39341</td>\n",
       "      <td>...</td>\n",
       "      <td>-0.03494</td>\n",
       "      <td>1.32443</td>\n",
       "      <td>-0.94570</td>\n",
       "      <td>0.02055</td>\n",
       "      <td>-1.23908</td>\n",
       "      <td>0.43507</td>\n",
       "      <td>1.08635</td>\n",
       "      <td>1.69027</td>\n",
       "      <td>0.61609</td>\n",
       "      <td>0</td>\n",
       "    </tr>\n",
       "    <tr>\n",
       "      <td>1</td>\n",
       "      <td>2</td>\n",
       "      <td>0.07609</td>\n",
       "      <td>-0.09774</td>\n",
       "      <td>0.39666</td>\n",
       "      <td>-0.39026</td>\n",
       "      <td>0.10606</td>\n",
       "      <td>0.52774</td>\n",
       "      <td>0.07105</td>\n",
       "      <td>0.33720</td>\n",
       "      <td>0.69917</td>\n",
       "      <td>...</td>\n",
       "      <td>0.86624</td>\n",
       "      <td>-1.24953</td>\n",
       "      <td>-0.21511</td>\n",
       "      <td>-1.54146</td>\n",
       "      <td>1.04765</td>\n",
       "      <td>-1.24035</td>\n",
       "      <td>0.00866</td>\n",
       "      <td>-1.27640</td>\n",
       "      <td>-0.60496</td>\n",
       "      <td>1</td>\n",
       "    </tr>\n",
       "    <tr>\n",
       "      <td>2</td>\n",
       "      <td>3</td>\n",
       "      <td>1.19391</td>\n",
       "      <td>-0.68707</td>\n",
       "      <td>-0.68422</td>\n",
       "      <td>-0.36378</td>\n",
       "      <td>-0.60847</td>\n",
       "      <td>-0.40118</td>\n",
       "      <td>1.45432</td>\n",
       "      <td>0.00592</td>\n",
       "      <td>1.68940</td>\n",
       "      <td>...</td>\n",
       "      <td>-0.35893</td>\n",
       "      <td>0.02330</td>\n",
       "      <td>0.31548</td>\n",
       "      <td>-0.34923</td>\n",
       "      <td>-0.41772</td>\n",
       "      <td>-0.58175</td>\n",
       "      <td>-0.60177</td>\n",
       "      <td>0.43555</td>\n",
       "      <td>0.41982</td>\n",
       "      <td>1</td>\n",
       "    </tr>\n",
       "    <tr>\n",
       "      <td>3</td>\n",
       "      <td>4</td>\n",
       "      <td>1.34949</td>\n",
       "      <td>-0.31498</td>\n",
       "      <td>-1.30248</td>\n",
       "      <td>0.50278</td>\n",
       "      <td>1.66292</td>\n",
       "      <td>-1.06094</td>\n",
       "      <td>-0.70835</td>\n",
       "      <td>-0.24237</td>\n",
       "      <td>-0.15509</td>\n",
       "      <td>...</td>\n",
       "      <td>0.23942</td>\n",
       "      <td>0.20774</td>\n",
       "      <td>0.81792</td>\n",
       "      <td>-0.74814</td>\n",
       "      <td>-0.62521</td>\n",
       "      <td>0.01689</td>\n",
       "      <td>0.83997</td>\n",
       "      <td>-0.46986</td>\n",
       "      <td>0.06755</td>\n",
       "      <td>0</td>\n",
       "    </tr>\n",
       "    <tr>\n",
       "      <td>4</td>\n",
       "      <td>5</td>\n",
       "      <td>-0.03512</td>\n",
       "      <td>-0.34196</td>\n",
       "      <td>0.14230</td>\n",
       "      <td>1.50513</td>\n",
       "      <td>-0.14364</td>\n",
       "      <td>0.49429</td>\n",
       "      <td>0.07823</td>\n",
       "      <td>-0.04356</td>\n",
       "      <td>0.42009</td>\n",
       "      <td>...</td>\n",
       "      <td>-1.78407</td>\n",
       "      <td>0.07465</td>\n",
       "      <td>1.50182</td>\n",
       "      <td>-0.41289</td>\n",
       "      <td>-0.55908</td>\n",
       "      <td>-0.29702</td>\n",
       "      <td>0.83641</td>\n",
       "      <td>0.59756</td>\n",
       "      <td>-0.20298</td>\n",
       "      <td>0</td>\n",
       "    </tr>\n",
       "  </tbody>\n",
       "</table>\n",
       "<p>5 rows × 514 columns</p>\n",
       "</div>"
      ],
      "text/plain": [
       "   id       v1       v2       v3       v4       v5       v6       v7       v8  \\\n",
       "0   1  0.37797 -0.94808  0.01346  0.17893  0.37795  0.63571  0.13943 -0.25607   \n",
       "1   2  0.07609 -0.09774  0.39666 -0.39026  0.10606  0.52774  0.07105  0.33720   \n",
       "2   3  1.19391 -0.68707 -0.68422 -0.36378 -0.60847 -0.40118  1.45432  0.00592   \n",
       "3   4  1.34949 -0.31498 -1.30248  0.50278  1.66292 -1.06094 -0.70835 -0.24237   \n",
       "4   5 -0.03512 -0.34196  0.14230  1.50513 -0.14364  0.49429  0.07823 -0.04356   \n",
       "\n",
       "        v9  ...     v504     v505     v506     v507     v508     v509  \\\n",
       "0 -0.39341  ... -0.03494  1.32443 -0.94570  0.02055 -1.23908  0.43507   \n",
       "1  0.69917  ...  0.86624 -1.24953 -0.21511 -1.54146  1.04765 -1.24035   \n",
       "2  1.68940  ... -0.35893  0.02330  0.31548 -0.34923 -0.41772 -0.58175   \n",
       "3 -0.15509  ...  0.23942  0.20774  0.81792 -0.74814 -0.62521  0.01689   \n",
       "4  0.42009  ... -1.78407  0.07465  1.50182 -0.41289 -0.55908 -0.29702   \n",
       "\n",
       "      v510     v511     v512  glasses  \n",
       "0  1.08635  1.69027  0.61609        0  \n",
       "1  0.00866 -1.27640 -0.60496        1  \n",
       "2 -0.60177  0.43555  0.41982        1  \n",
       "3  0.83997 -0.46986  0.06755        0  \n",
       "4  0.83641  0.59756 -0.20298        0  \n",
       "\n",
       "[5 rows x 514 columns]"
      ]
     },
     "execution_count": 3,
     "metadata": {},
     "output_type": "execute_result"
    }
   ],
   "source": [
    "train.head()"
   ]
  },
  {
   "cell_type": "markdown",
   "metadata": {},
   "source": [
    "# Analysis and Splitting of data"
   ]
  },
  {
   "cell_type": "code",
   "execution_count": 4,
   "metadata": {},
   "outputs": [
    {
     "data": {
      "image/png": "[encoded data removed]",
      "text/plain": [
       "<Figure size 432x288 with 1 Axes>"
      ]
     },
     "metadata": {
      "needs_background": "light"
     },
     "output_type": "display_data"
    }
   ],
   "source": [
    "\n",
    "plt.hist(train['glasses'])\n",
    "plt.show()\n",
    "             "
   ]
  },
  {
   "cell_type": "code",
   "execution_count": 5,
   "metadata": {},
   "outputs": [],
   "source": [
    "X = train.iloc[:,1:513].values\n",
    "y = train.iloc[:,513].values"
   ]
  },
  {
   "cell_type": "code",
   "execution_count": 6,
   "metadata": {},
   "outputs": [],
   "source": [
    "\n",
    "x_train , x_test ,y_train ,  y_test = train_test_split( X,y, test_size=0.2, random_state=0) "
   ]
  },
  {
   "cell_type": "markdown",
   "metadata": {},
   "source": [
    "# Training Random Forest Classifier"
   ]
  },
  {
   "cell_type": "code",
   "execution_count": 24,
   "metadata": {},
   "outputs": [],
   "source": [
    "from sklearn.ensemble import RandomForestClassifier\n",
    "rf = RandomForestClassifier(max_depth =20,max_features=200, random_state=0).fit(x_train, y_train)"
   ]
  },
  {
   "cell_type": "code",
   "execution_count": 28,
   "metadata": {},
   "outputs": [
    {
     "data": {
      "text/plain": [
       "RandomForestClassifier(bootstrap=True, class_weight=None, criterion='gini',\n",
       "                       max_depth=20, max_features=200, max_leaf_nodes=None,\n",
       "                       min_impurity_decrease=0.0, min_impurity_split=None,\n",
       "                       min_samples_leaf=1, min_samples_split=2,\n",
       "                       min_weight_fraction_leaf=0.0, n_estimators=10,\n",
       "                       n_jobs=None, oob_score=False, random_state=0, verbose=0,\n",
       "                       warm_start=False)"
      ]
     },
     "execution_count": 28,
     "metadata": {},
     "output_type": "execute_result"
    }
   ],
   "source": [
    "rf"
   ]
  },
  {
   "cell_type": "markdown",
   "metadata": {},
   "source": [
    "# Accuracy , cv score and Confusion matrix"
   ]
  },
  {
   "cell_type": "code",
   "execution_count": 26,
   "metadata": {},
   "outputs": [
    {
     "name": "stdout",
     "output_type": "stream",
     "text": [
      "Accuracy of Random Forest model :  90.55555555555556 %\n"
     ]
    }
   ],
   "source": [
    "#Accuracy using regression\n",
    "print('Accuracy of Random Forest model : ',rf.score(x_test,y_test)*100,'%')\n"
   ]
  },
  {
   "cell_type": "code",
   "execution_count": 29,
   "metadata": {},
   "outputs": [
    {
     "name": "stdout",
     "output_type": "stream",
     "text": [
      "Cross Validaion scores :  [0.80066445 0.78666667 0.76588629]\n"
     ]
    }
   ],
   "source": [
    "\n",
    "print(\"Cross Validaion scores : \",cross_val_score(rf, x_test, y_test, cv=3))"
   ]
  },
  {
   "cell_type": "code",
   "execution_count": 31,
   "metadata": {},
   "outputs": [
    {
     "name": "stdout",
     "output_type": "stream",
     "text": [
      "Confusion Matrix  \n",
      " [[257  51]\n",
      " [ 34 558]]\n"
     ]
    }
   ],
   "source": [
    "\n",
    "\n",
    "print('Confusion Matrix ','\\n',confusion_matrix( y_test,rf.predict(x_test)))"
   ]
  },
  {
   "cell_type": "markdown",
   "metadata": {},
   "source": [
    "# AUC ROC CURVE OF RF MODEL\n",
    "\n",
    "\n"
   ]
  },
  {
   "cell_type": "code",
   "execution_count": 32,
   "metadata": {},
   "outputs": [
    {
     "data": {
      "image/png": "[encoded data removed]",
      "text/plain": [
       "<Figure size 432x288 with 1 Axes>"
      ]
     },
     "metadata": {
      "needs_background": "light"
     },
     "output_type": "display_data"
    }
   ],
   "source": [
    "fpr,tpr,_= roc_curve(y_test,rf.predict(x_test))\n",
    "roc_auc = auc(fpr, tpr)\n",
    "plt.figure()\n",
    "lw = 2\n",
    "plt.plot(fpr, tpr, color='darkorange',\n",
    "         lw=lw, label='ROC curve (area = %0.2f)' % roc_auc)\n",
    "plt.plot([0, 1], [0, 1], color='navy', lw=lw, linestyle='--')\n",
    "plt.xlim([0.0, 1.0])\n",
    "plt.ylim([0.0, 1.05])\n",
    "plt.xlabel('False Positive Rate')\n",
    "plt.ylabel('True Positive Rate')\n",
    "plt.title('ROC of Random forest ')\n",
    "plt.legend(loc=\"lower right\")\n",
    "plt.show()"
   ]
  },
  {
   "cell_type": "markdown",
   "metadata": {},
   "source": [
    "# DIMENSION REDUCTION USING PCA "
   ]
  },
  {
   "cell_type": "code",
   "execution_count": 33,
   "metadata": {},
   "outputs": [
    {
     "data": {
      "text/plain": [
       "PCA(copy=True, iterated_power='auto', n_components=0.9, random_state=None,\n",
       "    svd_solver='auto', tol=0.0, whiten=False)"
      ]
     },
     "execution_count": 33,
     "metadata": {},
     "output_type": "execute_result"
    }
   ],
   "source": [
    "\n",
    "\n",
    "from sklearn.decomposition import PCA\n",
    "pca = PCA(0.9)\n",
    "pca.fit(x_train)\n",
    "\n"
   ]
  },
  {
   "cell_type": "code",
   "execution_count": 34,
   "metadata": {},
   "outputs": [],
   "source": [
    "pca_x_train = pca.transform(x_train)\n",
    "pca_x_test  = pca.transform(x_test)"
   ]
  },
  {
   "cell_type": "markdown",
   "metadata": {},
   "source": [
    "# Accuracy , cv score and Confusion matrix"
   ]
  },
  {
   "cell_type": "code",
   "execution_count": 35,
   "metadata": {},
   "outputs": [],
   "source": [
    "pca_rf = RandomForestClassifier(max_depth=20,max_features=200,random_state=0).fit(pca_x_train, y_train)"
   ]
  },
  {
   "cell_type": "code",
   "execution_count": 36,
   "metadata": {},
   "outputs": [
    {
     "name": "stdout",
     "output_type": "stream",
     "text": [
      "Accuracy of Random Forest model After PCA :  99.8888888888889 %\n"
     ]
    }
   ],
   "source": [
    "print('Accuracy of Random Forest model After PCA : ',pca_rf.score(pca_x_test,y_test)*100,'%')"
   ]
  },
  {
   "cell_type": "code",
   "execution_count": 37,
   "metadata": {},
   "outputs": [
    {
     "name": "stdout",
     "output_type": "stream",
     "text": [
      "Cross Validaion scores after PCA :  [0.99667774 0.99       0.97993311]\n"
     ]
    }
   ],
   "source": [
    "print(\"Cross Validaion scores after PCA : \",cross_val_score(pca_rf, pca_x_test, y_test, cv=3))"
   ]
  },
  {
   "cell_type": "code",
   "execution_count": 38,
   "metadata": {},
   "outputs": [
    {
     "name": "stdout",
     "output_type": "stream",
     "text": [
      "Confusion Matrix  \n",
      " [[308   0]\n",
      " [  1 591]]\n"
     ]
    }
   ],
   "source": [
    "print('Confusion Matrix ','\\n',confusion_matrix( y_test,pca_rf.predict(pca_x_test)))"
   ]
  },
  {
   "cell_type": "markdown",
   "metadata": {},
   "source": [
    "# AUC ROC of PCA applied model"
   ]
  },
  {
   "cell_type": "code",
   "execution_count": 40,
   "metadata": {},
   "outputs": [
    {
     "data": {
      "image/png": "[encoded data removed]",
      "text/plain": [
       "<Figure size 432x288 with 1 Axes>"
      ]
     },
     "metadata": {
      "needs_background": "light"
     },
     "output_type": "display_data"
    }
   ],
   "source": [
    "fpr,tpr,_= roc_curve(y_test,pca_rf.predict(pca_x_test))\n",
    "roc_auc = auc(fpr, tpr)\n",
    "plt.figure()\n",
    "lw = 2\n",
    "plt.plot(fpr, tpr, color='darkorange',\n",
    "         lw=lw, label='ROC curve (area = %0.2f)' % roc_auc)\n",
    "plt.plot([0, 1], [0, 1], color='navy', lw=lw, linestyle='--')\n",
    "plt.xlim([0.0, 1.0])\n",
    "plt.ylim([0.0, 1.05])\n",
    "plt.xlabel('False Positive Rate')\n",
    "plt.ylabel('True Positive Rate')\n",
    "plt.title('ROC after PCA on RF ')\n",
    "plt.legend(loc=\"lower right\")\n",
    "plt.show()\n"
   ]
  }
 ],
 "metadata": {
  "kernelspec": {
   "display_name": "Python 3",
   "language": "python",
   "name": "python3"
  },
  "language_info": {
   "codemirror_mode": {
    "name": "ipython",
    "version": 3
   },
   "file_extension": ".py",
   "mimetype": "text/x-python",
   "name": "python",
   "nbconvert_exporter": "python",
   "pygments_lexer": "ipython3",
   "version": "3.7.4"
  }
 },
 "nbformat": 4,
 "nbformat_minor": 2
}
